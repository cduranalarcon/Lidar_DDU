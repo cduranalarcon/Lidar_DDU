{
 "cells": [
  {
   "cell_type": "markdown",
   "metadata": {},
   "source": [
    "# Conversion of Raw lidar data to cloud and precipitation classification\n",
    "\n",
    "## Abstract\n",
    "\n",
    "This Notebook contains the post processing of the lidar data, including the spatial and temporal integration, the system calibration, background correction, SNR estimation, volume depolarization estimation, Cloud masking and hidrometeor clasification. Quick looks and some statistics are generated as well. Results are saved in netCDF format.\n",
    "\n",
    "## Import libraries\n",
    "\n",
    "Generic and own packages stored in \"lib\" are loaded to be used along the notebook. "
   ]
  },
  {
   "cell_type": "code",
   "execution_count": null,
   "metadata": {
    "collapsed": true
   },
   "outputs": [],
   "source": [
    "import sys, os\n",
    "sys.path.append(\"lib\") # adding \"lib\" path with own packages\n",
    "from Sigma_mol import sigma_mol # reads the radio sounsing and compute extinction coefficient\n",
    "from scipy.interpolate import interp1d # to interpolate modeled variables to lidar heights\n",
    "from lidar_integrating_space_time import Lidar_space_time as lidar_integ #integrates lidar raw data in height and time\n",
    "from lidar_integrating_space_time_std import Lidar_space_time2 as lidar_integ_std #maybe not used\n",
    "from fft_denoising import fft_denoising #maybe not used\n",
    "from klett import Klett81b #maybe not used\n",
    "import numpy as np \n",
    "import pylab #plots\n",
    "from DP_simp import DP_simp # Curve simplification\n",
    "from running_mean import running_mean # runing mean\n",
    "from time2epoch import time2epoch #maybe not used?\n",
    "#from cloud_mask_v1 import cloud_mask\n",
    "from netCDF4 import Dataset \n",
    "#from time import sleep\n",
    "from scipy import stats\n",
    "from scipy.optimize import curve_fit\n",
    "from dplots import densplot # make 2D desity plots\n",
    "from Comb_LidarMRR import Comb_LidarMRR3 as Comb_LidarMRR \n",
    "from cloud_mask_v2 import cloud_mask2\n",
    "from sm_paramTOP import sm_paramTOP\n",
    "import matplotlib\n",
    "from copy import copy"
   ]
  },
  {
   "cell_type": "markdown",
   "metadata": {},
   "source": [
    "## Load MRR and other parameters\n"
   ]
  },
  {
   "cell_type": "code",
   "execution_count": null,
   "metadata": {
    "collapsed": true
   },
   "outputs": [],
   "source": []
  }
 ],
 "metadata": {
  "anaconda-cloud": {},
  "kernelspec": {
   "display_name": "Python [default]",
   "language": "python",
   "name": "python2"
  },
  "language_info": {
   "codemirror_mode": {
    "name": "ipython",
    "version": 2
   },
   "file_extension": ".py",
   "mimetype": "text/x-python",
   "name": "python",
   "nbconvert_exporter": "python",
   "pygments_lexer": "ipython2",
   "version": "2.7.12"
  }
 },
 "nbformat": 4,
 "nbformat_minor": 2
}
